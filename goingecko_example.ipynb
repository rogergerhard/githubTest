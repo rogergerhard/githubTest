{
 "cells": [
  {
   "cell_type": "markdown",
   "id": "unexpected-restoration",
   "metadata": {},
   "source": [
    "# CoinGecko REST API: extracting crypto currency data"
   ]
  },
  {
   "cell_type": "markdown",
   "id": "5d93dfe3",
   "metadata": {},
   "source": [
    "## Libraries and settings"
   ]
  },
  {
   "cell_type": "code",
   "execution_count": 1,
   "id": "e086cd70",
   "metadata": {},
   "outputs": [
    {
     "name": "stdout",
     "output_type": "stream",
     "text": [
      "Current working directory: c:\\Users\\Roger\\Desktop\\WI22\\applied_data_science\\week_2\\Material für die Übungen-20230228\\Data_Collection_via_WebAPI\\CoinGecko_WebAPI\n"
     ]
    }
   ],
   "source": [
    "# Libraries\n",
    "import os\n",
    "import fnmatch\n",
    "import locale\n",
    "# RGE: what is this doing?\n",
    "locale.setlocale(locale.LC_ALL,\"\") \n",
    "\n",
    "import matplotlib.pyplot as plt\n",
    "\n",
    "from pycoingecko import CoinGeckoAPI\n",
    "cg = CoinGeckoAPI()\n",
    "\n",
    "# Settings\n",
    "import warnings\n",
    "warnings.filterwarnings(\"ignore\")\n",
    "\n",
    "# Current working directory\n",
    "print(f'Current working directory: {os.getcwd()}')"
   ]
  },
  {
   "cell_type": "markdown",
   "id": "f52ba0c0",
   "metadata": {},
   "source": [
    "## Get data"
   ]
  },
  {
   "cell_type": "code",
   "execution_count": 2,
   "id": "administrative-robin",
   "metadata": {},
   "outputs": [
    {
     "data": {
      "text/plain": [
       "{'bitcoin': {'usd': 22430}}"
      ]
     },
     "execution_count": 2,
     "metadata": {},
     "output_type": "execute_result"
    }
   ],
   "source": [
    "# Simple price endpoint with the required parameters\n",
    "cg.get_price(ids='bitcoin', vs_currencies='usd')"
   ]
  },
  {
   "cell_type": "code",
   "execution_count": 10,
   "id": "above-train",
   "metadata": {},
   "outputs": [
    {
     "data": {
      "text/plain": [
       "{'banano': {'usd': 0.00481018},\n",
       " 'bitcoin': {'usd': 22405},\n",
       " 'dogecoin': {'usd': 0.074075},\n",
       " 'ethereum': {'usd': 1564.79},\n",
       " 'near': {'usd': 2.02}}"
      ]
     },
     "execution_count": 10,
     "metadata": {},
     "output_type": "execute_result"
    }
   ],
   "source": [
    "# Multiple arguments (USD)\n",
    "cg.get_price(ids=['bitcoin', 'near', 'ethereum', 'dogecoin', 'Banano'], vs_currencies='usd')"
   ]
  },
  {
   "cell_type": "code",
   "execution_count": 11,
   "id": "southeast-checklist",
   "metadata": {},
   "outputs": [
    {
     "data": {
      "text/plain": [
       "{'banano': {'usd': 0.0048103, 'eur': 0.00452547},\n",
       " 'bitcoin': {'usd': 22404, 'eur': 21078},\n",
       " 'dogecoin': {'usd': 0.074113, 'eur': 0.069724},\n",
       " 'ethereum': {'usd': 1565.01, 'eur': 1471.87},\n",
       " 'near': {'usd': 2.02, 'eur': 1.9}}"
      ]
     },
     "execution_count": 11,
     "metadata": {},
     "output_type": "execute_result"
    }
   ],
   "source": [
    "# Multiple arguments (USD & EUR)\n",
    "cg.get_price(ids=['bitcoin', 'near', 'ethereum, dogecoin', 'Banano'], vs_currencies=['usd', 'eur'])"
   ]
  },
  {
   "cell_type": "code",
   "execution_count": 14,
   "id": "single-sensitivity",
   "metadata": {},
   "outputs": [
    {
     "data": {
      "text/plain": [
       "{'banano': {'usd': 0.00480998,\n",
       "  'usd_market_cap': 7052540.232691395,\n",
       "  'usd_24h_vol': 21804.352400499018,\n",
       "  'usd_24h_change': -2.342820764890243,\n",
       "  'last_updated_at': 1678096951},\n",
       " 'bitcoin': {'usd': 22403,\n",
       "  'usd_market_cap': 432588634120.2254,\n",
       "  'usd_24h_vol': 16799365807.759172,\n",
       "  'usd_24h_change': 0.014252141527744695,\n",
       "  'last_updated_at': 1678096962},\n",
       " 'dogecoin': {'usd': 0.074117,\n",
       "  'usd_market_cap': 10257699640.740084,\n",
       "  'usd_24h_vol': 305972175.8984438,\n",
       "  'usd_24h_change': -2.3323333200011573,\n",
       "  'last_updated_at': 1678096975},\n",
       " 'ethereum': {'usd': 1565.28,\n",
       "  'usd_market_cap': 188575364272.00006,\n",
       "  'usd_24h_vol': 5982018717.123985,\n",
       "  'usd_24h_change': -0.27378179934692126,\n",
       "  'last_updated_at': 1678096972},\n",
       " 'near': {'usd': 2.02,\n",
       "  'usd_market_cap': 1744607347.9497933,\n",
       "  'usd_24h_vol': 82955485.99531268,\n",
       "  'usd_24h_change': -2.67268384810885,\n",
       "  'last_updated_at': 1678096968}}"
      ]
     },
     "execution_count": 14,
     "metadata": {},
     "output_type": "execute_result"
    }
   ],
   "source": [
    "# Pass optional parameters as defined in the API doc (https://www.coingecko.com/api/docs/v3)\n",
    "data = cg.get_price( ids='bitcoin, near, ethereum, dogecoin, Banano', \n",
    "                     vs_currencies='usd', \n",
    "                     include_market_cap='true', \n",
    "                     include_24hr_vol='true', \n",
    "                     include_24hr_change='true', \n",
    "                     include_last_updated_at='true')\n",
    "data"
   ]
  },
  {
   "cell_type": "code",
   "execution_count": 15,
   "id": "negative-allah",
   "metadata": {},
   "outputs": [
    {
     "name": "stdout",
     "output_type": "stream",
     "text": [
      "['banano', 'bitcoin', 'dogecoin', 'ethereum', 'near']\n",
      "----------------\n",
      "banano\n",
      "0.00480998\n"
     ]
    }
   ],
   "source": [
    "# Extract single values\n",
    "names = list(data.keys())\n",
    "print(names)\n",
    "print(\"----------------\")\n",
    "\n",
    "# Price of the first element in list\n",
    "print(names[0])\n",
    "print(data[names[0]][\"usd\"])"
   ]
  },
  {
   "cell_type": "markdown",
   "id": "5cb610cf",
   "metadata": {},
   "source": [
    "## Extract and plot data"
   ]
  },
  {
   "cell_type": "code",
   "execution_count": 16,
   "id": "surgical-germany",
   "metadata": {},
   "outputs": [
    {
     "name": "stdout",
     "output_type": "stream",
     "text": [
      "['banano', 'bitcoin', 'dogecoin', 'ethereum', 'near']\n",
      "[0.00480998, 22403, 0.074117, 1565.28, 2.02]\n"
     ]
    }
   ],
   "source": [
    "# Keys from dictionary\n",
    "names = list(data.keys())\n",
    "print(names)\n",
    "  \n",
    "# Get values from dictionary   \n",
    "values = []\n",
    "for i in range(len(names)):\n",
    "    vals = data[names[i]][\"usd\"]\n",
    "    values.append(vals)\n",
    "print(values)"
   ]
  },
  {
   "cell_type": "code",
   "execution_count": 18,
   "id": "juvenile-huntington",
   "metadata": {},
   "outputs": [
    {
     "data": {
      "image/png": "[encoded data removed]",
      "text/plain": [
       "<Figure size 600x400 with 1 Axes>"
      ]
     },
     "metadata": {},
     "output_type": "display_data"
    }
   ],
   "source": [
    "# Plot data\n",
    "fig, ax = plt.subplots(figsize=(6,4))\n",
    "\n",
    "bar_x          = [1,2,3,4,5]\n",
    "bar_height     = values\n",
    "bar_tick_label = names\n",
    "bar_label      = [\"%.2f\" % i for i in values]\n",
    "\n",
    "bar_plot = plt.bar(bar_x,bar_height,tick_label=bar_tick_label,color='greenyellow')\n",
    "def autolabel(rects):\n",
    "    for idx,rect in enumerate(bar_plot):\n",
    "        height = rect.get_height()\n",
    "        ax.text(rect.get_x() + rect.get_width()/2., height,\n",
    "                bar_label[idx],\n",
    "                ha='center', va='bottom', rotation=0)\n",
    "\n",
    "autolabel(bar_plot)\n",
    "plt.ylabel('Price (USD)')\n",
    "plt.title('Price of crypto currencies')\n",
    "\n",
    "plt.show()"
   ]
  },
  {
   "attachments": {},
   "cell_type": "markdown",
   "id": "cd71fca9",
   "metadata": {},
   "source": [
    "### Jupyter notebook --footer info-- (please always provide this at the end of each notebook)"
   ]
  },
  {
   "cell_type": "code",
   "execution_count": 19,
   "id": "23004277",
   "metadata": {},
   "outputs": [
    {
     "name": "stdout",
     "output_type": "stream",
     "text": [
      "-----------------------------------\n",
      "NT\n",
      "Windows | 10\n",
      "Datetime: 2023-03-06 11:04:37\n",
      "Python Version: 3.10.9\n",
      "-----------------------------------\n"
     ]
    }
   ],
   "source": [
    "import os\n",
    "import platform\n",
    "import socket\n",
    "from platform import python_version\n",
    "from datetime import datetime\n",
    "\n",
    "print('-----------------------------------')\n",
    "print(os.name.upper())\n",
    "print(platform.system(), '|', platform.release())\n",
    "print('Datetime:', datetime.now().strftime(\"%Y-%m-%d %H:%M:%S\"))\n",
    "print('Python Version:', python_version())\n",
    "print('-----------------------------------')"
   ]
  }
 ],
 "metadata": {
  "kernelspec": {
   "display_name": "Python 3",
   "language": "python",
   "name": "python3"
  },
  "language_info": {
   "codemirror_mode": {
    "name": "ipython",
    "version": 3
   },
   "file_extension": ".py",
   "mimetype": "text/x-python",
   "name": "python",
   "nbconvert_exporter": "python",
   "pygments_lexer": "ipython3",
   "version": "3.10.9"
  },
  "toc": {
   "base_numbering": 1,
   "nav_menu": {},
   "number_sections": true,
   "sideBar": true,
   "skip_h1_title": false,
   "title_cell": "Table of Contents",
   "title_sidebar": "Contents",
   "toc_cell": false,
   "toc_position": {},
   "toc_section_display": true,
   "toc_window_display": false
  },
  "vscode": {
   "interpreter": {
    "hash": "0c91b9cda141cebb30eec1a9e537ad58842c9f54da60c0fda28ac01b57846336"
   }
  }
 },
 "nbformat": 4,
 "nbformat_minor": 5
}

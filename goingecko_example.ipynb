{
 "cells": [
  {
   "cell_type": "markdown",
   "id": "unexpected-restoration",
   "metadata": {},
   "source": [
    "# CoinGecko REST API: extracting crypto currency data"
   ]
  },
  {
   "cell_type": "markdown",
   "id": "5d93dfe3",
   "metadata": {},
   "source": [
    "## Libraries and settings"
   ]
  },
  {
   "cell_type": "code",
   "execution_count": 1,
   "id": "e086cd70",
   "metadata": {},
   "outputs": [
    {
     "name": "stdout",
     "output_type": "stream",
     "text": [
      "Current working directory: c:\\Users\\Roger\\Desktop\\WI22\\applied_data_science\\ADS_PROJECT\\githubTest\n"
     ]
    }
   ],
   "source": [
    "# Libraries\n",
    "import os\n",
    "import fnmatch\n",
    "import locale\n",
    "# RGE: what is this doing?\n",
    "locale.setlocale(locale.LC_ALL,\"\") \n",
    "\n",
    "import matplotlib.pyplot as plt\n",
    "\n",
    "from pycoingecko import CoinGeckoAPI\n",
    "cg = CoinGeckoAPI()\n",
    "\n",
    "# Settings\n",
    "import warnings\n",
    "warnings.filterwarnings(\"ignore\")\n",
    "\n",
    "# Current working directory\n",
    "print(f'Current working directory: {os.getcwd()}')"
   ]
  },
  {
   "cell_type": "markdown",
   "id": "f52ba0c0",
   "metadata": {},
   "source": [
    "## Get data"
   ]
  },
  {
   "cell_type": "code",
   "execution_count": 10,
   "id": "administrative-robin",
   "metadata": {},
   "outputs": [
    {
     "data": {
      "text/plain": [
       "{'dogecoin': {'usd': 0.087224}}"
      ]
     },
     "execution_count": 10,
     "metadata": {},
     "output_type": "execute_result"
    }
   ],
   "source": [
    "# Simple price endpoint with the required parameters\n",
    "cg.get_price(ids='dogecoin', vs_currencies='usd')"
   ]
  },
  {
   "cell_type": "code",
   "execution_count": 3,
   "id": "above-train",
   "metadata": {},
   "outputs": [
    {
     "data": {
      "text/plain": [
       "{'banano': {'usd': 0.00582217},\n",
       " 'bitcoin': {'usd': 30258},\n",
       " 'dogecoin': {'usd': 0.087315},\n",
       " 'ethereum': {'usd': 2073.19},\n",
       " 'near': {'usd': 2.18}}"
      ]
     },
     "execution_count": 3,
     "metadata": {},
     "output_type": "execute_result"
    }
   ],
   "source": [
    "# Multiple arguments (USD)\n",
    "cg.get_price(ids=['bitcoin', 'near', 'ethereum', 'dogecoin', 'Banano'], vs_currencies='usd')"
   ]
  },
  {
   "cell_type": "code",
   "execution_count": 4,
   "id": "southeast-checklist",
   "metadata": {},
   "outputs": [
    {
     "data": {
      "text/plain": [
       "{'banano': {'usd': 0.00582217, 'eur': 0.00530112},\n",
       " 'bitcoin': {'usd': 30258, 'eur': 27550},\n",
       " 'dogecoin': {'usd': 0.087315, 'eur': 0.079501},\n",
       " 'ethereum': {'usd': 2073.19, 'eur': 1887.65},\n",
       " 'near': {'usd': 2.18, 'eur': 1.98}}"
      ]
     },
     "execution_count": 4,
     "metadata": {},
     "output_type": "execute_result"
    }
   ],
   "source": [
    "# Multiple arguments (USD & EUR)\n",
    "cg.get_price(ids=['bitcoin', 'near', 'ethereum, dogecoin', 'Banano'], vs_currencies=['usd', 'eur'])"
   ]
  },
  {
   "cell_type": "code",
   "execution_count": 5,
   "id": "single-sensitivity",
   "metadata": {},
   "outputs": [
    {
     "data": {
      "text/plain": [
       "{'banano': {'usd': 0.00582217,\n",
       "  'usd_market_cap': 8619337.845242249,\n",
       "  'usd_24h_vol': 26126.65565103675,\n",
       "  'usd_24h_change': 0.9733240549558408,\n",
       "  'last_updated_at': 1681492422},\n",
       " 'bitcoin': {'usd': 30258,\n",
       "  'usd_market_cap': 585108430793.0284,\n",
       "  'usd_24h_vol': 20477509940.890526,\n",
       "  'usd_24h_change': -0.4388723932686243,\n",
       "  'last_updated_at': 1681492428},\n",
       " 'dogecoin': {'usd': 0.087315,\n",
       "  'usd_market_cap': 12122904425.329971,\n",
       "  'usd_24h_vol': 1210768818.3382502,\n",
       "  'usd_24h_change': -0.2469371599061158,\n",
       "  'last_updated_at': 1681492425},\n",
       " 'ethereum': {'usd': 2073.19,\n",
       "  'usd_market_cap': 249043177297.47394,\n",
       "  'usd_24h_vol': 16967939370.993822,\n",
       "  'usd_24h_change': 3.166985223149884,\n",
       "  'last_updated_at': 1681492429},\n",
       " 'near': {'usd': 2.18,\n",
       "  'usd_market_cap': 1924852639.2177474,\n",
       "  'usd_24h_vol': 167237604.37865794,\n",
       "  'usd_24h_change': -0.358029532812144,\n",
       "  'last_updated_at': 1681492424}}"
      ]
     },
     "execution_count": 5,
     "metadata": {},
     "output_type": "execute_result"
    }
   ],
   "source": [
    "# Pass optional parameters as defined in the API doc (https://www.coingecko.com/api/docs/v3)\n",
    "data = cg.get_price( ids='bitcoin, near, ethereum, dogecoin, Banano', \n",
    "                     vs_currencies='usd', \n",
    "                     include_market_cap='true', \n",
    "                     include_24hr_vol='true', \n",
    "                     include_24hr_change='true', \n",
    "                     include_last_updated_at='true')\n",
    "data"
   ]
  },
  {
   "cell_type": "code",
   "execution_count": 6,
   "id": "negative-allah",
   "metadata": {},
   "outputs": [
    {
     "name": "stdout",
     "output_type": "stream",
     "text": [
      "['banano', 'bitcoin', 'dogecoin', 'ethereum', 'near']\n",
      "----------------\n",
      "banano\n",
      "0.00582217\n"
     ]
    }
   ],
   "source": [
    "# Extract single values\n",
    "names = list(data.keys())\n",
    "print(names)\n",
    "print(\"----------------\")\n",
    "\n",
    "# Price of the first element in list\n",
    "print(names[0])\n",
    "print(data[names[0]][\"usd\"])"
   ]
  },
  {
   "cell_type": "markdown",
   "id": "5cb610cf",
   "metadata": {},
   "source": [
    "## Extract and plot data"
   ]
  },
  {
   "cell_type": "code",
   "execution_count": 7,
   "id": "surgical-germany",
   "metadata": {},
   "outputs": [
    {
     "name": "stdout",
     "output_type": "stream",
     "text": [
      "['banano', 'bitcoin', 'dogecoin', 'ethereum', 'near']\n",
      "[0.00582217, 30258, 0.087315, 2073.19, 2.18]\n"
     ]
    }
   ],
   "source": [
    "# Keys from dictionary\n",
    "names = list(data.keys())\n",
    "print(names)\n",
    "  \n",
    "# Get values from dictionary   \n",
    "values = []\n",
    "for i in range(len(names)):\n",
    "    vals = data[names[i]][\"usd\"]\n",
    "    values.append(vals)\n",
    "print(values)"
   ]
  },
  {
   "cell_type": "code",
   "execution_count": 8,
   "id": "juvenile-huntington",
   "metadata": {},
   "outputs": [
    {
     "data": {
      "image/png": "[encoded data removed]",
      "text/plain": [
       "<Figure size 600x400 with 1 Axes>"
      ]
     },
     "metadata": {},
     "output_type": "display_data"
    }
   ],
   "source": [
    "# Plot data\n",
    "fig, ax = plt.subplots(figsize=(6,4))\n",
    "\n",
    "bar_x          = [1,2,3,4,5]\n",
    "bar_height     = values\n",
    "bar_tick_label = names\n",
    "bar_label      = [\"%.2f\" % i for i in values]\n",
    "\n",
    "bar_plot = plt.bar(bar_x,bar_height,tick_label=bar_tick_label,color='greenyellow')\n",
    "def autolabel(rects):\n",
    "    for idx,rect in enumerate(bar_plot):\n",
    "        height = rect.get_height()\n",
    "        ax.text(rect.get_x() + rect.get_width()/2., height,\n",
    "                bar_label[idx],\n",
    "                ha='center', va='bottom', rotation=0)\n",
    "\n",
    "autolabel(bar_plot)\n",
    "plt.ylabel('Price (USD)')\n",
    "plt.title('Price of crypto currencies')\n",
    "\n",
    "plt.show()"
   ]
  },
  {
   "attachments": {},
   "cell_type": "markdown",
   "id": "cd71fca9",
   "metadata": {},
   "source": [
    "### Jupyter notebook --footer info-- (please always provide this at the end of each notebook)"
   ]
  },
  {
   "cell_type": "code",
   "execution_count": 9,
   "id": "23004277",
   "metadata": {},
   "outputs": [
    {
     "name": "stdout",
     "output_type": "stream",
     "text": [
      "-----------------------------------\n",
      "NT\n",
      "Windows | 10\n",
      "Datetime: 2023-04-14 19:13:54\n",
      "Python Version: 3.10.9\n",
      "-----------------------------------\n"
     ]
    }
   ],
   "source": [
    "import os\n",
    "import platform\n",
    "import socket\n",
    "from platform import python_version\n",
    "from datetime import datetime\n",
    "\n",
    "print('-----------------------------------')\n",
    "print(os.name.upper())\n",
    "print(platform.system(), '|', platform.release())\n",
    "print('Datetime:', datetime.now().strftime(\"%Y-%m-%d %H:%M:%S\"))\n",
    "print('Python Version:', python_version())\n",
    "print('-----------------------------------')"
   ]
  }
 ],
 "metadata": {
  "kernelspec": {
   "display_name": "Python 3",
   "language": "python",
   "name": "python3"
  },
  "language_info": {
   "codemirror_mode": {
    "name": "ipython",
    "version": 3
   },
   "file_extension": ".py",
   "mimetype": "text/x-python",
   "name": "python",
   "nbconvert_exporter": "python",
   "pygments_lexer": "ipython3",
   "version": "3.10.9"
  },
  "toc": {
   "base_numbering": 1,
   "nav_menu": {},
   "number_sections": true,
   "sideBar": true,
   "skip_h1_title": false,
   "title_cell": "Table of Contents",
   "title_sidebar": "Contents",
   "toc_cell": false,
   "toc_position": {},
   "toc_section_display": true,
   "toc_window_display": false
  },
  "vscode": {
   "interpreter": {
    "hash": "0c91b9cda141cebb30eec1a9e537ad58842c9f54da60c0fda28ac01b57846336"
   }
  }
 },
 "nbformat": 4,
 "nbformat_minor": 5
}
